{
  "nbformat": 4,
  "nbformat_minor": 0,
  "metadata": {
    "colab": {
      "provenance": []
    },
    "kernelspec": {
      "name": "python3",
      "display_name": "Python 3"
    },
    "language_info": {
      "name": "python"
    }
  },
  "cells": [
    {
      "cell_type": "code",
      "source": [
        "import pandas as pd\n",
        "\n",
        "# Load the dataset\n",
        "df = pd.read_csv('/content/drive/MyDrive/Machine Learning Bootcamp Datasets/Iris.csv')  # Adjust the path if needed\n"
      ],
      "metadata": {
        "id": "ZVK4qykOAeYM"
      },
      "execution_count": 12,
      "outputs": []
    },
    {
      "cell_type": "code",
      "source": [
        "# Preprocess data\n",
        "X = df.drop(columns=['Id', 'Species'])  # Features\n",
        "y = df['Species']  # Labels\n",
        "\n",
        "# Split the data into training and testing sets\n",
        "from sklearn.model_selection import train_test_split\n",
        "X_train, X_test, y_train, y_test = train_test_split(X, y, test_size=0.2, random_state=42)\n",
        "\n",
        "# Initialize and train the Logistic Regression model\n",
        "from sklearn.linear_model import LogisticRegression\n",
        "model = LogisticRegression(max_iter=200)\n",
        "model.fit(X_train, y_train)\n",
        "\n",
        "# Make predictions\n",
        "y_pred = model.predict(X_test)\n",
        "\n",
        "# Evaluate accuracy\n",
        "from sklearn.metrics import accuracy_score\n",
        "accuracy = accuracy_score(y_test, y_pred)\n",
        "print(f'Accuracy: {accuracy * 100:.2f}%')\n"
      ],
      "metadata": {
        "colab": {
          "base_uri": "https://localhost:8080/"
        },
        "id": "aiSnU1E_Ap8l",
        "outputId": "b5877c97-bf45-4c2d-e21c-42a6a41900c6"
      },
      "execution_count": 13,
      "outputs": [
        {
          "output_type": "stream",
          "name": "stdout",
          "text": [
            "Accuracy: 100.00%\n"
          ]
        }
      ]
    },
    {
      "cell_type": "code",
      "source": [
        "from sklearn.svm import SVC\n",
        "\n",
        "# Initialize and train the SVM model\n",
        "svm_model = SVC(kernel='linear')\n",
        "svm_model.fit(X_train, y_train)\n",
        "\n",
        "# Make predictions and evaluate\n",
        "y_pred_svm = svm_model.predict(X_test)\n",
        "accuracy_svm = accuracy_score(y_test, y_pred_svm)\n",
        "print(f'SVM Accuracy: {accuracy_svm * 100:.2f}%')\n"
      ],
      "metadata": {
        "colab": {
          "base_uri": "https://localhost:8080/"
        },
        "id": "tv841E-XAtfW",
        "outputId": "a02432cc-49d7-46cb-957b-ae9ba29a55d5"
      },
      "execution_count": 14,
      "outputs": [
        {
          "output_type": "stream",
          "name": "stdout",
          "text": [
            "SVM Accuracy: 100.00%\n"
          ]
        }
      ]
    },
    {
      "cell_type": "code",
      "source": [
        "from sklearn.ensemble import RandomForestClassifier\n",
        "\n",
        "# Initialize and train the Random Forest model\n",
        "rf_model = RandomForestClassifier()\n",
        "rf_model.fit(X_train, y_train)\n",
        "\n",
        "# Make predictions and evaluate\n",
        "y_pred_rf = rf_model.predict(X_test)\n",
        "accuracy_rf = accuracy_score(y_test, y_pred_rf)\n",
        "print(f'Random Forest Accuracy: {accuracy_rf * 100:.2f}%')\n"
      ],
      "metadata": {
        "colab": {
          "base_uri": "https://localhost:8080/"
        },
        "id": "jnIjZS4hAw5U",
        "outputId": "12197609-2a08-4894-a818-27545428e712"
      },
      "execution_count": 15,
      "outputs": [
        {
          "output_type": "stream",
          "name": "stdout",
          "text": [
            "Random Forest Accuracy: 100.00%\n"
          ]
        }
      ]
    },
    {
      "cell_type": "code",
      "source": [
        "from sklearn.neighbors import KNeighborsClassifier\n",
        "\n",
        "# Initialize and train the KNN model\n",
        "knn_model = KNeighborsClassifier()\n",
        "knn_model.fit(X_train, y_train)\n",
        "\n",
        "# Make predictions and evaluate\n",
        "y_pred_knn = knn_model.predict(X_test)\n",
        "accuracy_knn = accuracy_score(y_test, y_pred_knn)\n",
        "print(f'KNN Accuracy: {accuracy_knn * 100:.2f}%')\n"
      ],
      "metadata": {
        "colab": {
          "base_uri": "https://localhost:8080/"
        },
        "id": "toWXQZl5AzWd",
        "outputId": "5e0ea125-9a54-4c2a-bf13-27a258a5342d"
      },
      "execution_count": 16,
      "outputs": [
        {
          "output_type": "stream",
          "name": "stdout",
          "text": [
            "KNN Accuracy: 100.00%\n"
          ]
        }
      ]
    },
    {
      "cell_type": "code",
      "source": [
        "from sklearn.model_selection import cross_val_score\n",
        "from sklearn.linear_model import LogisticRegression\n",
        "from sklearn.svm import SVC\n",
        "from sklearn.ensemble import RandomForestClassifier\n",
        "from sklearn.neighbors import KNeighborsClassifier\n",
        "\n",
        "# Initialize models\n",
        "logreg_model = LogisticRegression(max_iter=200)\n",
        "svm_model = SVC(kernel='linear')\n",
        "rf_model = RandomForestClassifier()\n",
        "knn_model = KNeighborsClassifier()\n",
        "\n",
        "# Perform cross-validation (using 5-folds)\n",
        "logreg_scores = cross_val_score(logreg_model, X, y, cv=5)\n",
        "svm_scores = cross_val_score(svm_model, X, y, cv=5)\n",
        "rf_scores = cross_val_score(rf_model, X, y, cv=5)\n",
        "knn_scores = cross_val_score(knn_model, X, y, cv=5)\n",
        "\n",
        "# Display cross-validation scores\n",
        "print(f'Logistic Regression CV Accuracy: {logreg_scores.mean() * 100:.2f}%')\n",
        "print(f'SVM CV Accuracy: {svm_scores.mean() * 100:.2f}%')\n",
        "print(f'Random Forest CV Accuracy: {rf_scores.mean() * 100:.2f}%')\n",
        "print(f'KNN CV Accuracy: {knn_scores.mean() * 100:.2f}%')\n"
      ],
      "metadata": {
        "colab": {
          "base_uri": "https://localhost:8080/"
        },
        "id": "6CfP9bEUBROx",
        "outputId": "4d3ffc28-f972-4a18-a48d-b0406986e9f2"
      },
      "execution_count": 17,
      "outputs": [
        {
          "output_type": "stream",
          "name": "stdout",
          "text": [
            "Logistic Regression CV Accuracy: 97.33%\n",
            "SVM CV Accuracy: 98.00%\n",
            "Random Forest CV Accuracy: 96.67%\n",
            "KNN CV Accuracy: 97.33%\n"
          ]
        }
      ]
    },
    {
      "cell_type": "code",
      "source": [
        "from sklearn.metrics import confusion_matrix\n",
        "\n",
        "# Make predictions (assuming you've trained your models)\n",
        "y_pred = model.predict(X_test)\n",
        "\n",
        "# Compute confusion matrix\n",
        "conf_matrix = confusion_matrix(y_test, y_pred)\n",
        "print(\"Confusion Matrix:\")\n",
        "print(conf_matrix)\n"
      ],
      "metadata": {
        "colab": {
          "base_uri": "https://localhost:8080/"
        },
        "id": "_hRMBKLnBUAd",
        "outputId": "b3e3ec5b-7499-45f7-ab84-994f5d836a9a"
      },
      "execution_count": 18,
      "outputs": [
        {
          "output_type": "stream",
          "name": "stdout",
          "text": [
            "Confusion Matrix:\n",
            "[[10  0  0]\n",
            " [ 0  9  0]\n",
            " [ 0  0 11]]\n"
          ]
        }
      ]
    },
    {
      "cell_type": "code",
      "source": [
        "# Import necessary libraries\n",
        "from sklearn.linear_model import LogisticRegression\n",
        "from sklearn.model_selection import train_test_split\n",
        "from sklearn.metrics import confusion_matrix, accuracy_score\n",
        "\n",
        "# Load your data\n",
        "df = pd.read_csv('/content/drive/MyDrive/Machine Learning Bootcamp Datasets/Iris.csv')  # Adjust if necessary\n",
        "\n",
        "# Preprocess data (dropping 'Id' and selecting 'Species')\n",
        "X = df.drop(columns=['Id', 'Species'])  # Features\n",
        "y = df['Species']  # Target\n",
        "\n",
        "# Split the data into training and testing sets\n",
        "X_train, X_test, y_train, y_test = train_test_split(X, y, test_size=0.2, random_state=42)\n",
        "\n",
        "# Initialize the Logistic Regression model\n",
        "logreg_model = LogisticRegression(max_iter=200)\n",
        "\n",
        "# Step 1: Train the model\n",
        "logreg_model.fit(X_train, y_train)  # Make sure you fit the model\n",
        "\n",
        "# Step 2: Make predictions\n",
        "y_pred_logreg = logreg_model.predict(X_test)\n",
        "\n",
        "# Step 3: Evaluate the model with confusion matrix and accuracy\n",
        "conf_matrix_logreg = confusion_matrix(y_test, y_pred_logreg)\n",
        "logreg_accuracy = conf_matrix_logreg.diagonal().sum() / conf_matrix_logreg.sum()\n",
        "\n",
        "# Print the confusion matrix and accuracy\n",
        "print(\"Logistic Regression Confusion Matrix:\")\n",
        "print(conf_matrix_logreg)\n",
        "print(f'Logistic Regression Accuracy: {logreg_accuracy * 100:.2f}%')\n"
      ],
      "metadata": {
        "colab": {
          "base_uri": "https://localhost:8080/"
        },
        "id": "Bk0oHYiNCKBB",
        "outputId": "6c2be1e2-26f2-4b02-abc9-fca05f7c659c"
      },
      "execution_count": 21,
      "outputs": [
        {
          "output_type": "stream",
          "name": "stdout",
          "text": [
            "Logistic Regression Confusion Matrix:\n",
            "[[10  0  0]\n",
            " [ 0  9  0]\n",
            " [ 0  0 11]]\n",
            "Logistic Regression Accuracy: 100.00%\n"
          ]
        }
      ]
    },
    {
      "cell_type": "code",
      "source": [
        "from sklearn.svm import SVC\n",
        "\n",
        "# Initialize the SVM model\n",
        "svm_model = SVC(kernel='linear')\n",
        "\n",
        "# Step 1: Train the SVM model\n",
        "svm_model.fit(X_train, y_train)\n",
        "\n",
        "# Step 2: Make predictions\n",
        "y_pred_svm = svm_model.predict(X_test)\n",
        "\n",
        "# Step 3: Evaluate the SVM model with confusion matrix and accuracy\n",
        "conf_matrix_svm = confusion_matrix(y_test, y_pred_svm)\n",
        "svm_accuracy = conf_matrix_svm.diagonal().sum() / conf_matrix_svm.sum()\n",
        "\n",
        "# Print the confusion matrix and accuracy\n",
        "print(\"SVM Confusion Matrix:\")\n",
        "print(conf_matrix_svm)\n",
        "print(f'SVM Accuracy: {svm_accuracy * 100:.2f}%')\n"
      ],
      "metadata": {
        "colab": {
          "base_uri": "https://localhost:8080/"
        },
        "id": "_xwLwsXzCehm",
        "outputId": "ae654316-1cfb-4686-f7e4-d343452c686a"
      },
      "execution_count": 23,
      "outputs": [
        {
          "output_type": "stream",
          "name": "stdout",
          "text": [
            "SVM Confusion Matrix:\n",
            "[[10  0  0]\n",
            " [ 0  9  0]\n",
            " [ 0  0 11]]\n",
            "SVM Accuracy: 100.00%\n"
          ]
        }
      ]
    },
    {
      "cell_type": "code",
      "source": [
        "def manual_accuracy(y_true, y_pred):\n",
        "    correct_predictions = 0\n",
        "    total_predictions = len(y_true)\n",
        "\n",
        "    # Loop through actual and predicted labels\n",
        "    for actual, predicted in zip(y_true, y_pred):\n",
        "        if actual == predicted:\n",
        "            correct_predictions += 1\n",
        "\n",
        "    # Calculate accuracy\n",
        "    accuracy = correct_predictions / total_predictions\n",
        "    return accuracy\n"
      ],
      "metadata": {
        "id": "YhcHPlILC9Qe"
      },
      "execution_count": 24,
      "outputs": []
    },
    {
      "cell_type": "code",
      "source": [
        "# Step 1: Train the Logistic Regression model\n",
        "logreg_model.fit(X_train, y_train)\n",
        "\n",
        "# Step 2: Make predictions\n",
        "y_pred_logreg = logreg_model.predict(X_test)\n",
        "\n",
        "# Step 3: Calculate accuracy manually\n",
        "logreg_accuracy = manual_accuracy(y_test, y_pred_logreg)\n",
        "print(f'Logistic Regression Accuracy (Manual Calculation): {logreg_accuracy * 100:.2f}%')\n"
      ],
      "metadata": {
        "colab": {
          "base_uri": "https://localhost:8080/"
        },
        "id": "_8JdASoYC_RX",
        "outputId": "15a14778-e3ee-465d-e993-499d6d4ce606"
      },
      "execution_count": 25,
      "outputs": [
        {
          "output_type": "stream",
          "name": "stdout",
          "text": [
            "Logistic Regression Accuracy (Manual Calculation): 100.00%\n"
          ]
        }
      ]
    },
    {
      "cell_type": "code",
      "source": [
        "# Step 1: Train the SVM model\n",
        "svm_model.fit(X_train, y_train)\n",
        "\n",
        "# Step 2: Make predictions\n",
        "y_pred_svm = svm_model.predict(X_test)\n",
        "\n",
        "# Step 3: Calculate accuracy manually\n",
        "svm_accuracy = manual_accuracy(y_test, y_pred_svm)\n",
        "print(f'SVM Accuracy (Manual Calculation): {svm_accuracy * 100:.2f}%')\n"
      ],
      "metadata": {
        "colab": {
          "base_uri": "https://localhost:8080/"
        },
        "id": "ADG1KEbkDBuF",
        "outputId": "ee9d9cf7-729e-4c6c-ea0c-7e87a8130e97"
      },
      "execution_count": 26,
      "outputs": [
        {
          "output_type": "stream",
          "name": "stdout",
          "text": [
            "SVM Accuracy (Manual Calculation): 100.00%\n"
          ]
        }
      ]
    },
    {
      "cell_type": "code",
      "source": [
        "# Step 1: Train the Random Forest model\n",
        "rf_model.fit(X_train, y_train)\n",
        "\n",
        "# Step 2: Make predictions\n",
        "y_pred_rf = rf_model.predict(X_test)\n",
        "\n",
        "# Step 3: Calculate accuracy manually\n",
        "rf_accuracy = manual_accuracy(y_test, y_pred_rf)\n",
        "print(f'Random Forest Accuracy (Manual Calculation): {rf_accuracy * 100:.2f}%')\n"
      ],
      "metadata": {
        "colab": {
          "base_uri": "https://localhost:8080/"
        },
        "id": "2R5Y9bIoDD5_",
        "outputId": "6495e1d7-c146-4c52-e328-5a2774e74d81"
      },
      "execution_count": 27,
      "outputs": [
        {
          "output_type": "stream",
          "name": "stdout",
          "text": [
            "Random Forest Accuracy (Manual Calculation): 100.00%\n"
          ]
        }
      ]
    },
    {
      "cell_type": "code",
      "source": [
        "# Step 1: Train the KNN model\n",
        "knn_model.fit(X_train, y_train)\n",
        "\n",
        "# Step 2: Make predictions\n",
        "y_pred_knn = knn_model.predict(X_test)\n",
        "\n",
        "# Step 3: Calculate accuracy manually\n",
        "knn_accuracy = manual_accuracy(y_test, y_pred_knn)\n",
        "print(f'KNN Accuracy (Manual Calculation): {knn_accuracy * 100:.2f}%')\n"
      ],
      "metadata": {
        "colab": {
          "base_uri": "https://localhost:8080/"
        },
        "id": "zjuLeE5rDGrw",
        "outputId": "c2b4076c-8ff4-4e8f-fe4f-dd5859618517"
      },
      "execution_count": 28,
      "outputs": [
        {
          "output_type": "stream",
          "name": "stdout",
          "text": [
            "KNN Accuracy (Manual Calculation): 100.00%\n"
          ]
        }
      ]
    },
    {
      "cell_type": "code",
      "source": [
        "import pandas as pd\n",
        "\n",
        "# Load the dataset\n",
        "df = pd.read_csv('/content/drive/MyDrive/Machine Learning Bootcamp Datasets/Iris.csv')\n",
        "\n",
        "# Verify the dataset is loaded\n",
        "print(df.head())\n"
      ],
      "metadata": {
        "colab": {
          "base_uri": "https://localhost:8080/"
        },
        "id": "qMeRRwIKMGmb",
        "outputId": "590cb9f8-51ee-488b-d585-f2aef5a2ec8e"
      },
      "execution_count": 4,
      "outputs": [
        {
          "output_type": "stream",
          "name": "stdout",
          "text": [
            "   Id  SepalLengthCm  SepalWidthCm  PetalLengthCm  PetalWidthCm      Species\n",
            "0   1            5.1           3.5            1.4           0.2  Iris-setosa\n",
            "1   2            4.9           3.0            1.4           0.2  Iris-setosa\n",
            "2   3            4.7           3.2            1.3           0.2  Iris-setosa\n",
            "3   4            4.6           3.1            1.5           0.2  Iris-setosa\n",
            "4   5            5.0           3.6            1.4           0.2  Iris-setosa\n"
          ]
        }
      ]
    },
    {
      "cell_type": "code",
      "source": [
        "# Function to detect outliers using IQR\n",
        "def detect_outliers_iqr(df, column):\n",
        "    Q1 = df[column].quantile(0.25)\n",
        "    Q3 = df[column].quantile(0.75)\n",
        "    IQR = Q3 - Q1\n",
        "    lower_bound = Q1 - 1.5 * IQR\n",
        "    upper_bound = Q3 + 1.5 * IQR\n",
        "    outliers = df[(df[column] < lower_bound) | (df[column] > upper_bound)]\n",
        "    return outliers\n",
        "\n",
        "# Detect outliers in SepalLengthCm, SepalWidthCm, PetalLengthCm, and PetalWidthCm\n",
        "outliers_sepal_length = detect_outliers_iqr(df, 'SepalLengthCm')\n",
        "outliers_sepal_width = detect_outliers_iqr(df, 'SepalWidthCm')\n",
        "outliers_petal_length = detect_outliers_iqr(df, 'PetalLengthCm')\n",
        "outliers_petal_width = detect_outliers_iqr(df, 'PetalWidthCm')\n",
        "\n",
        "# Combine all outliers into one DataFrame\n",
        "outliers = pd.concat([outliers_sepal_length, outliers_sepal_width, outliers_petal_length, outliers_petal_width]).drop_duplicates()\n",
        "\n",
        "# Display outliers\n",
        "print(f\"Outliers detected:\\n{outliers}\")\n"
      ],
      "metadata": {
        "colab": {
          "base_uri": "https://localhost:8080/"
        },
        "id": "sCKfvD2-MIvl",
        "outputId": "e93e8736-61f3-4842-b52b-ed9efb6e9714"
      },
      "execution_count": 5,
      "outputs": [
        {
          "output_type": "stream",
          "name": "stdout",
          "text": [
            "Outliers detected:\n",
            "    Id  SepalLengthCm  SepalWidthCm  PetalLengthCm  PetalWidthCm  \\\n",
            "15  16            5.7           4.4            1.5           0.4   \n",
            "32  33            5.2           4.1            1.5           0.1   \n",
            "33  34            5.5           4.2            1.4           0.2   \n",
            "60  61            5.0           2.0            3.5           1.0   \n",
            "\n",
            "            Species  \n",
            "15      Iris-setosa  \n",
            "32      Iris-setosa  \n",
            "33      Iris-setosa  \n",
            "60  Iris-versicolor  \n"
          ]
        }
      ]
    },
    {
      "cell_type": "code",
      "source": [
        "# Remove outliers from the dataset\n",
        "df_cleaned = df[~df.index.isin(outliers.index)]  # Keep only the rows that are not outliers\n",
        "\n",
        "# Display cleaned dataset\n",
        "print(f\"Dataset after removing outliers:\\n{df_cleaned.head()}\")\n"
      ],
      "metadata": {
        "colab": {
          "base_uri": "https://localhost:8080/"
        },
        "id": "yyo8BJl9MPsN",
        "outputId": "69380b8d-477a-471c-c64b-9c64c5173c00"
      },
      "execution_count": 6,
      "outputs": [
        {
          "output_type": "stream",
          "name": "stdout",
          "text": [
            "Dataset after removing outliers:\n",
            "   Id  SepalLengthCm  SepalWidthCm  PetalLengthCm  PetalWidthCm      Species\n",
            "0   1            5.1           3.5            1.4           0.2  Iris-setosa\n",
            "1   2            4.9           3.0            1.4           0.2  Iris-setosa\n",
            "2   3            4.7           3.2            1.3           0.2  Iris-setosa\n",
            "3   4            4.6           3.1            1.5           0.2  Iris-setosa\n",
            "4   5            5.0           3.6            1.4           0.2  Iris-setosa\n"
          ]
        }
      ]
    },
    {
      "cell_type": "code",
      "source": [
        "from sklearn.model_selection import train_test_split\n"
      ],
      "metadata": {
        "id": "QolUTVNEMueT"
      },
      "execution_count": 8,
      "outputs": []
    },
    {
      "cell_type": "code",
      "source": [
        "# Import the required function\n",
        "from sklearn.model_selection import train_test_split\n",
        "\n",
        "# Preprocess cleaned data\n",
        "X_cleaned = df_cleaned.drop(columns=['Id', 'Species'])  # Features\n",
        "y_cleaned = df_cleaned['Species']  # Target\n",
        "\n",
        "# Split cleaned data into training and testing sets\n",
        "X_train_cleaned, X_test_cleaned, y_train_cleaned, y_test_cleaned = train_test_split(X_cleaned, y_cleaned, test_size=0.2, random_state=42)\n"
      ],
      "metadata": {
        "id": "K5yyhj7_MvoJ"
      },
      "execution_count": 9,
      "outputs": []
    },
    {
      "cell_type": "code",
      "source": [
        "def manual_accuracy(y_true, y_pred):\n",
        "    correct_predictions = sum(1 for actual, predicted in zip(y_true, y_pred) if actual == predicted)\n",
        "    total_predictions = len(y_true)\n",
        "    return correct_predictions / total_predictions\n"
      ],
      "metadata": {
        "id": "adp9OofEMx5y"
      },
      "execution_count": 10,
      "outputs": []
    },
    {
      "cell_type": "code",
      "source": [
        "# Initialize and train the Logistic Regression model\n",
        "logreg_model = LogisticRegression(max_iter=200)\n",
        "logreg_model.fit(X_train_cleaned, y_train_cleaned)\n",
        "\n",
        "# Make predictions\n",
        "y_pred_logreg_cleaned = logreg_model.predict(X_test_cleaned)\n",
        "\n",
        "# Calculate accuracy\n",
        "logreg_accuracy_cleaned = manual_accuracy(y_test_cleaned, y_pred_logreg_cleaned)\n",
        "print(f'Logistic Regression Accuracy (After Removing Outliers): {logreg_accuracy_cleaned * 100:.2f}%')\n"
      ],
      "metadata": {
        "colab": {
          "base_uri": "https://localhost:8080/"
        },
        "id": "39cDUkdKNDsf",
        "outputId": "cbb6af2c-24b9-4b59-8059-cbcbdc20624d"
      },
      "execution_count": 11,
      "outputs": [
        {
          "output_type": "stream",
          "name": "stdout",
          "text": [
            "Logistic Regression Accuracy (After Removing Outliers): 93.33%\n"
          ]
        }
      ]
    },
    {
      "cell_type": "code",
      "source": [
        "# Initialize and train the SVM model\n",
        "svm_model = SVC(kernel='linear')\n",
        "svm_model.fit(X_train_cleaned, y_train_cleaned)\n",
        "\n",
        "# Make predictions\n",
        "y_pred_svm_cleaned = svm_model.predict(X_test_cleaned)\n",
        "\n",
        "# Calculate accuracy\n",
        "svm_accuracy_cleaned = manual_accuracy(y_test_cleaned, y_pred_svm_cleaned)\n",
        "print(f'SVM Accuracy (After Removing Outliers): {svm_accuracy_cleaned * 100:.2f}%')\n"
      ],
      "metadata": {
        "colab": {
          "base_uri": "https://localhost:8080/"
        },
        "id": "CxOwFXiANGhs",
        "outputId": "aa96e556-db90-4e18-83ea-3ca46f24c6e8"
      },
      "execution_count": 12,
      "outputs": [
        {
          "output_type": "stream",
          "name": "stdout",
          "text": [
            "SVM Accuracy (After Removing Outliers): 96.67%\n"
          ]
        }
      ]
    },
    {
      "cell_type": "code",
      "source": [
        "# Initialize and train the Random Forest model\n",
        "rf_model = RandomForestClassifier()\n",
        "rf_model.fit(X_train_cleaned, y_train_cleaned)\n",
        "\n",
        "# Make predictions\n",
        "y_pred_rf_cleaned = rf_model.predict(X_test_cleaned)\n",
        "\n",
        "# Calculate accuracy\n",
        "rf_accuracy_cleaned = manual_accuracy(y_test_cleaned, y_pred_rf_cleaned)\n",
        "print(f'Random Forest Accuracy (After Removing Outliers): {rf_accuracy_cleaned * 100:.2f}%')\n"
      ],
      "metadata": {
        "colab": {
          "base_uri": "https://localhost:8080/"
        },
        "id": "UpnAebL1NI3U",
        "outputId": "a42a42d8-c475-4ece-ceff-590b7f0fc567"
      },
      "execution_count": 13,
      "outputs": [
        {
          "output_type": "stream",
          "name": "stdout",
          "text": [
            "Random Forest Accuracy (After Removing Outliers): 93.33%\n"
          ]
        }
      ]
    },
    {
      "cell_type": "code",
      "source": [
        "# Initialize and train the KNN model\n",
        "knn_model = KNeighborsClassifier()\n",
        "knn_model.fit(X_train_cleaned, y_train_cleaned)\n",
        "\n",
        "# Make predictions\n",
        "y_pred_knn_cleaned = knn_model.predict(X_test_cleaned)\n",
        "\n",
        "# Calculate accuracy\n",
        "knn_accuracy_cleaned = manual_accuracy(y_test_cleaned, y_pred_knn_cleaned)\n",
        "print(f'KNN Accuracy (After Removing Outliers): {knn_accuracy_cleaned * 100:.2f}%')\n"
      ],
      "metadata": {
        "colab": {
          "base_uri": "https://localhost:8080/"
        },
        "id": "AoeC8C0WNK9a",
        "outputId": "16e2b366-fecf-4630-fe0f-9c98f70395ab"
      },
      "execution_count": 14,
      "outputs": [
        {
          "output_type": "stream",
          "name": "stdout",
          "text": [
            "KNN Accuracy (After Removing Outliers): 96.67%\n"
          ]
        }
      ]
    },
    {
      "cell_type": "code",
      "source": [
        "# Logistic Regression Accuracy (After Removing Outliers): 95.00%\n",
        "# SVM Accuracy (After Removing Outliers): 96.67%\n",
        "# Random Forest Accuracy (After Removing Outliers): 98.33%\n",
        "# KNN Accuracy (After Removing Outliers): 95.00%\n"
      ],
      "metadata": {
        "id": "XlSYM4e5NPBK"
      },
      "execution_count": 16,
      "outputs": []
    }
  ]
}